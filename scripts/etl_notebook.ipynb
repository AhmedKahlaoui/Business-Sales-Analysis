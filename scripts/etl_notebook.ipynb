{
 "cells": [
  {
   "cell_type": "code",
   "execution_count": 3,
   "metadata": {},
   "outputs": [],
   "source": [
    "import pandas as pd \n",
    "from datetime import datetime\n",
    "import re "
   ]
  },
  {
   "cell_type": "markdown",
   "metadata": {},
   "source": [
    "Importing the Data"
   ]
  },
  {
   "cell_type": "code",
   "execution_count": null,
   "metadata": {},
   "outputs": [],
   "source": [
    "orders=pd.read_csv(\"../data/raw/Orders.csv\", sep=';',usecols=range(5))\n",
    "customers=pd.read_csv(\"../data/raw/Customers.csv\", sep=';')\n",
    "product=pd.read_csv(\"../data/raw/Product.csv\", sep=';')"
   ]
  },
  {
   "cell_type": "markdown",
   "metadata": {},
   "source": [
    "Checking for null values"
   ]
  },
  {
   "cell_type": "code",
   "execution_count": 3,
   "metadata": {},
   "outputs": [
    {
     "data": {
      "text/plain": [
       "Order ID       0\n",
       "Order Date     0\n",
       "Customer ID    0\n",
       "Product ID     0\n",
       "Quantity       0\n",
       "dtype: int64"
      ]
     },
     "execution_count": 3,
     "metadata": {},
     "output_type": "execute_result"
    }
   ],
   "source": [
    "orders.isna().sum()"
   ]
  },
  {
   "cell_type": "code",
   "execution_count": 4,
   "metadata": {},
   "outputs": [
    {
     "data": {
      "text/plain": [
       "Product ID        0\n",
       "Coffee Type       0\n",
       "Roast Type        0\n",
       "Size              0\n",
       "Unit Price        0\n",
       "Price per 100g    0\n",
       "Profit            0\n",
       "dtype: int64"
      ]
     },
     "execution_count": 4,
     "metadata": {},
     "output_type": "execute_result"
    }
   ],
   "source": [
    "product.isna().sum()"
   ]
  },
  {
   "cell_type": "code",
   "execution_count": 5,
   "metadata": {},
   "outputs": [
    {
     "data": {
      "text/plain": [
       "Customer ID         0\n",
       "Customer Name       0\n",
       "Email             204\n",
       "Phone Number      130\n",
       "Address Line 1      0\n",
       "City                0\n",
       "Country             0\n",
       "Postcode            0\n",
       "Loyalty Card        0\n",
       "dtype: int64"
      ]
     },
     "execution_count": 5,
     "metadata": {},
     "output_type": "execute_result"
    }
   ],
   "source": [
    "customers.isna().sum()"
   ]
  },
  {
   "cell_type": "markdown",
   "metadata": {},
   "source": [
    "--> Only the customers table has null values in the email and phone number columns"
   ]
  },
  {
   "cell_type": "markdown",
   "metadata": {},
   "source": [
    "Orders table cleaning "
   ]
  },
  {
   "cell_type": "code",
   "execution_count": 5,
   "metadata": {},
   "outputs": [
    {
     "name": "stdout",
     "output_type": "stream",
     "text": [
      "Empty DataFrame\n",
      "Columns: [order_id, order_date, customer_id, product_id, quantity]\n",
      "Index: []\n",
      "<class 'pandas.core.frame.DataFrame'>\n",
      "RangeIndex: 999 entries, 0 to 998\n",
      "Data columns (total 5 columns):\n",
      " #   Column       Non-Null Count  Dtype         \n",
      "---  ------       --------------  -----         \n",
      " 0   order_id     999 non-null    object        \n",
      " 1   order_date   999 non-null    datetime64[ns]\n",
      " 2   customer_id  999 non-null    object        \n",
      " 3   product_id   999 non-null    object        \n",
      " 4   quantity     999 non-null    int64         \n",
      "dtypes: datetime64[ns](1), int64(1), object(3)\n",
      "memory usage: 39.2+ KB\n",
      "None\n"
     ]
    }
   ],
   "source": [
    "orders.columns = orders.columns.str.strip().str.lower().str.replace(\" \", \"_\")\n",
    "orders['order_date'] = pd.to_datetime(orders['order_date'],format='%d/%m/%Y') \n",
    "today = datetime.today().strftime('%d/%m/%Y')\n",
    "orders = orders.groupby(['order_id', 'order_date', 'customer_id', 'product_id'], as_index=False)['quantity'].sum()\n",
    "\n",
    "print(orders[orders['order_date'] > today]) \n",
    "print(orders.info())\n"
   ]
  },
  {
   "cell_type": "code",
   "execution_count": 17,
   "metadata": {},
   "outputs": [
    {
     "data": {
      "text/html": [
       "<div>\n",
       "<style scoped>\n",
       "    .dataframe tbody tr th:only-of-type {\n",
       "        vertical-align: middle;\n",
       "    }\n",
       "\n",
       "    .dataframe tbody tr th {\n",
       "        vertical-align: top;\n",
       "    }\n",
       "\n",
       "    .dataframe thead th {\n",
       "        text-align: right;\n",
       "    }\n",
       "</style>\n",
       "<table border=\"1\" class=\"dataframe\">\n",
       "  <thead>\n",
       "    <tr style=\"text-align: right;\">\n",
       "      <th></th>\n",
       "      <th>order_id</th>\n",
       "      <th>order_date</th>\n",
       "      <th>customer_id</th>\n",
       "      <th>product_id</th>\n",
       "      <th>quantity</th>\n",
       "    </tr>\n",
       "  </thead>\n",
       "  <tbody>\n",
       "  </tbody>\n",
       "</table>\n",
       "</div>"
      ],
      "text/plain": [
       "Empty DataFrame\n",
       "Columns: [order_id, order_date, customer_id, product_id, quantity]\n",
       "Index: []"
      ]
     },
     "execution_count": 17,
     "metadata": {},
     "output_type": "execute_result"
    }
   ],
   "source": [
    "orders[orders.duplicated(subset=['order_id','customer_id','product_id','quantity'], keep=False)]\n"
   ]
  },
  {
   "cell_type": "code",
   "execution_count": 23,
   "metadata": {},
   "outputs": [
    {
     "data": {
      "text/html": [
       "<div>\n",
       "<style scoped>\n",
       "    .dataframe tbody tr th:only-of-type {\n",
       "        vertical-align: middle;\n",
       "    }\n",
       "\n",
       "    .dataframe tbody tr th {\n",
       "        vertical-align: top;\n",
       "    }\n",
       "\n",
       "    .dataframe thead th {\n",
       "        text-align: right;\n",
       "    }\n",
       "</style>\n",
       "<table border=\"1\" class=\"dataframe\">\n",
       "  <thead>\n",
       "    <tr style=\"text-align: right;\">\n",
       "      <th></th>\n",
       "      <th>order_id</th>\n",
       "      <th>order_date</th>\n",
       "      <th>customer_id</th>\n",
       "      <th>product_id</th>\n",
       "      <th>quantity</th>\n",
       "    </tr>\n",
       "  </thead>\n",
       "  <tbody>\n",
       "    <tr>\n",
       "      <th>0</th>\n",
       "      <td>AAQ-13644-699</td>\n",
       "      <td>2022-06-03</td>\n",
       "      <td>46296-42617-OQ</td>\n",
       "      <td>R-D-1</td>\n",
       "      <td>4</td>\n",
       "    </tr>\n",
       "    <tr>\n",
       "      <th>1</th>\n",
       "      <td>ABK-08091-531</td>\n",
       "      <td>2020-10-30</td>\n",
       "      <td>53864-36201-FG</td>\n",
       "      <td>L-L-1</td>\n",
       "      <td>3</td>\n",
       "    </tr>\n",
       "    <tr>\n",
       "      <th>2</th>\n",
       "      <td>ABO-29054-365</td>\n",
       "      <td>2019-01-19</td>\n",
       "      <td>00256-19905-YG</td>\n",
       "      <td>A-M-0.5</td>\n",
       "      <td>6</td>\n",
       "    </tr>\n",
       "  </tbody>\n",
       "</table>\n",
       "</div>"
      ],
      "text/plain": [
       "        order_id order_date     customer_id product_id  quantity\n",
       "0  AAQ-13644-699 2022-06-03  46296-42617-OQ      R-D-1         4\n",
       "1  ABK-08091-531 2020-10-30  53864-36201-FG      L-L-1         3\n",
       "2  ABO-29054-365 2019-01-19  00256-19905-YG    A-M-0.5         6"
      ]
     },
     "execution_count": 23,
     "metadata": {},
     "output_type": "execute_result"
    }
   ],
   "source": [
    "orders.head(3)"
   ]
  },
  {
   "cell_type": "markdown",
   "metadata": {},
   "source": [
    "Products table cleaning"
   ]
  },
  {
   "cell_type": "code",
   "execution_count": 6,
   "metadata": {},
   "outputs": [
    {
     "name": "stdout",
     "output_type": "stream",
     "text": [
      "<class 'pandas.core.frame.DataFrame'>\n",
      "RangeIndex: 48 entries, 0 to 47\n",
      "Data columns (total 7 columns):\n",
      " #   Column          Non-Null Count  Dtype  \n",
      "---  ------          --------------  -----  \n",
      " 0   product_id      48 non-null     object \n",
      " 1   coffee_type     48 non-null     object \n",
      " 2   roast_type      48 non-null     object \n",
      " 3   size            48 non-null     float64\n",
      " 4   unit_price      48 non-null     float64\n",
      " 5   price_per_100g  48 non-null     float64\n",
      " 6   profit          48 non-null     float64\n",
      "dtypes: float64(4), object(3)\n",
      "memory usage: 2.8+ KB\n",
      "None\n"
     ]
    }
   ],
   "source": [
    "product.columns=product.columns.str.strip().str.lower().str.replace(\" \", \"_\")\n",
    "cols_to_float=['size','unit_price','price_per_100g','profit'] \n",
    "product[cols_to_float]=product[cols_to_float].apply(lambda x: x.str.replace(',', '.').astype(float))\n",
    "print(product.info())"
   ]
  },
  {
   "cell_type": "code",
   "execution_count": 14,
   "metadata": {},
   "outputs": [
    {
     "data": {
      "text/html": [
       "<div>\n",
       "<style scoped>\n",
       "    .dataframe tbody tr th:only-of-type {\n",
       "        vertical-align: middle;\n",
       "    }\n",
       "\n",
       "    .dataframe tbody tr th {\n",
       "        vertical-align: top;\n",
       "    }\n",
       "\n",
       "    .dataframe thead th {\n",
       "        text-align: right;\n",
       "    }\n",
       "</style>\n",
       "<table border=\"1\" class=\"dataframe\">\n",
       "  <thead>\n",
       "    <tr style=\"text-align: right;\">\n",
       "      <th></th>\n",
       "      <th>product_id</th>\n",
       "      <th>coffee_type</th>\n",
       "      <th>roast_type</th>\n",
       "      <th>size</th>\n",
       "      <th>unit_price</th>\n",
       "      <th>price_per_100g</th>\n",
       "      <th>profit</th>\n",
       "    </tr>\n",
       "  </thead>\n",
       "  <tbody>\n",
       "  </tbody>\n",
       "</table>\n",
       "</div>"
      ],
      "text/plain": [
       "Empty DataFrame\n",
       "Columns: [product_id, coffee_type, roast_type, size, unit_price, price_per_100g, profit]\n",
       "Index: []"
      ]
     },
     "execution_count": 14,
     "metadata": {},
     "output_type": "execute_result"
    }
   ],
   "source": [
    "product[product.duplicated(subset=['product_id'], keep=False)]\n"
   ]
  },
  {
   "cell_type": "code",
   "execution_count": 22,
   "metadata": {},
   "outputs": [
    {
     "data": {
      "text/html": [
       "<div>\n",
       "<style scoped>\n",
       "    .dataframe tbody tr th:only-of-type {\n",
       "        vertical-align: middle;\n",
       "    }\n",
       "\n",
       "    .dataframe tbody tr th {\n",
       "        vertical-align: top;\n",
       "    }\n",
       "\n",
       "    .dataframe thead th {\n",
       "        text-align: right;\n",
       "    }\n",
       "</style>\n",
       "<table border=\"1\" class=\"dataframe\">\n",
       "  <thead>\n",
       "    <tr style=\"text-align: right;\">\n",
       "      <th></th>\n",
       "      <th>product_id</th>\n",
       "      <th>coffee_type</th>\n",
       "      <th>roast_type</th>\n",
       "      <th>size</th>\n",
       "      <th>unit_price</th>\n",
       "      <th>price_per_100g</th>\n",
       "      <th>profit</th>\n",
       "    </tr>\n",
       "  </thead>\n",
       "  <tbody>\n",
       "    <tr>\n",
       "      <th>0</th>\n",
       "      <td>A-L-0.2</td>\n",
       "      <td>Ara</td>\n",
       "      <td>L</td>\n",
       "      <td>0.2</td>\n",
       "      <td>3.885</td>\n",
       "      <td>1.9425</td>\n",
       "      <td>0.34965</td>\n",
       "    </tr>\n",
       "    <tr>\n",
       "      <th>1</th>\n",
       "      <td>A-L-0.5</td>\n",
       "      <td>Ara</td>\n",
       "      <td>L</td>\n",
       "      <td>0.5</td>\n",
       "      <td>7.770</td>\n",
       "      <td>1.5540</td>\n",
       "      <td>0.69930</td>\n",
       "    </tr>\n",
       "    <tr>\n",
       "      <th>2</th>\n",
       "      <td>A-L-1</td>\n",
       "      <td>Ara</td>\n",
       "      <td>L</td>\n",
       "      <td>1.0</td>\n",
       "      <td>12.950</td>\n",
       "      <td>1.2950</td>\n",
       "      <td>1.16550</td>\n",
       "    </tr>\n",
       "  </tbody>\n",
       "</table>\n",
       "</div>"
      ],
      "text/plain": [
       "  product_id coffee_type roast_type  size  unit_price  price_per_100g   profit\n",
       "0    A-L-0.2         Ara          L   0.2       3.885          1.9425  0.34965\n",
       "1    A-L-0.5         Ara          L   0.5       7.770          1.5540  0.69930\n",
       "2      A-L-1         Ara          L   1.0      12.950          1.2950  1.16550"
      ]
     },
     "execution_count": 22,
     "metadata": {},
     "output_type": "execute_result"
    }
   ],
   "source": [
    "product.head(3)"
   ]
  },
  {
   "cell_type": "markdown",
   "metadata": {},
   "source": [
    "Customers data cleaning"
   ]
  },
  {
   "cell_type": "code",
   "execution_count": 8,
   "metadata": {},
   "outputs": [
    {
     "name": "stdout",
     "output_type": "stream",
     "text": [
      "<class 'pandas.core.frame.DataFrame'>\n",
      "RangeIndex: 1000 entries, 0 to 999\n",
      "Data columns (total 10 columns):\n",
      " #   Column            Non-Null Count  Dtype \n",
      "---  ------            --------------  ----- \n",
      " 0   customer_id       1000 non-null   object\n",
      " 1   customer_name     1000 non-null   object\n",
      " 2   email             1000 non-null   object\n",
      " 3   phone_number      1000 non-null   object\n",
      " 4   address_line_1    1000 non-null   object\n",
      " 5   city              1000 non-null   object\n",
      " 6   country           1000 non-null   object\n",
      " 7   postcode          1000 non-null   object\n",
      " 8   loyalty_card      1000 non-null   object\n",
      " 9   PhoneNumberValid  1000 non-null   bool  \n",
      "dtypes: bool(1), object(9)\n",
      "memory usage: 71.4+ KB\n",
      "None\n"
     ]
    }
   ],
   "source": [
    "customers.columns=customers.columns.str.strip().str.lower().str.replace(\" \", \"_\")\n",
    "customers = customers.dropna(subset=['customer_id']) \n",
    "customers['country']=customers['country'].str.upper().replace({'UNITED STATES':'US','UNITED KINGDOM':'UK','IRELAND':'IR'})\n",
    "customers.fillna({'customer_name':'No name','email':'No email','phone_number':'No phone number'},inplace=True)\n",
    "\n",
    "def validate_phone_number(row): \n",
    "    phone_number = row['phone_number']\n",
    "    country = row['country']\n",
    "    if country == 'US':\n",
    "        pattern = r'^\\+1 \\(\\d{3}\\) \\d{3}-\\d{4}$'\n",
    "    elif country == 'UK':\n",
    "        pattern = r'^\\+44 \\(\\d{3}\\) \\d{3}-\\d{4}$'\n",
    "    elif country == 'IR':\n",
    "        pattern = r'^\\+353 \\(\\d{3}\\) \\d{3}-\\d{4}$'\n",
    "    else:\n",
    "        return False\n",
    "    return bool(re.match(pattern, phone_number))\n",
    "\n",
    "customers['PhoneNumberValid'] = customers.apply(validate_phone_number, axis=1)\n",
    "\n",
    "print(customers.info()) "
   ]
  },
  {
   "cell_type": "code",
   "execution_count": 13,
   "metadata": {},
   "outputs": [
    {
     "data": {
      "text/html": [
       "<div>\n",
       "<style scoped>\n",
       "    .dataframe tbody tr th:only-of-type {\n",
       "        vertical-align: middle;\n",
       "    }\n",
       "\n",
       "    .dataframe tbody tr th {\n",
       "        vertical-align: top;\n",
       "    }\n",
       "\n",
       "    .dataframe thead th {\n",
       "        text-align: right;\n",
       "    }\n",
       "</style>\n",
       "<table border=\"1\" class=\"dataframe\">\n",
       "  <thead>\n",
       "    <tr style=\"text-align: right;\">\n",
       "      <th></th>\n",
       "      <th>customer_id</th>\n",
       "      <th>customer_name</th>\n",
       "      <th>email</th>\n",
       "      <th>phone_number</th>\n",
       "      <th>address_line_1</th>\n",
       "      <th>city</th>\n",
       "      <th>country</th>\n",
       "      <th>postcode</th>\n",
       "      <th>loyalty_card</th>\n",
       "      <th>PhoneNumberValid</th>\n",
       "    </tr>\n",
       "  </thead>\n",
       "  <tbody>\n",
       "  </tbody>\n",
       "</table>\n",
       "</div>"
      ],
      "text/plain": [
       "Empty DataFrame\n",
       "Columns: [customer_id, customer_name, email, phone_number, address_line_1, city, country, postcode, loyalty_card, PhoneNumberValid]\n",
       "Index: []"
      ]
     },
     "execution_count": 13,
     "metadata": {},
     "output_type": "execute_result"
    }
   ],
   "source": [
    "customers[customers.duplicated(subset=['customer_id'], keep=False)]\n"
   ]
  },
  {
   "cell_type": "code",
   "execution_count": 21,
   "metadata": {},
   "outputs": [
    {
     "data": {
      "text/html": [
       "<div>\n",
       "<style scoped>\n",
       "    .dataframe tbody tr th:only-of-type {\n",
       "        vertical-align: middle;\n",
       "    }\n",
       "\n",
       "    .dataframe tbody tr th {\n",
       "        vertical-align: top;\n",
       "    }\n",
       "\n",
       "    .dataframe thead th {\n",
       "        text-align: right;\n",
       "    }\n",
       "</style>\n",
       "<table border=\"1\" class=\"dataframe\">\n",
       "  <thead>\n",
       "    <tr style=\"text-align: right;\">\n",
       "      <th></th>\n",
       "      <th>customer_id</th>\n",
       "      <th>customer_name</th>\n",
       "      <th>email</th>\n",
       "      <th>phone_number</th>\n",
       "      <th>address_line_1</th>\n",
       "      <th>city</th>\n",
       "      <th>country</th>\n",
       "      <th>postcode</th>\n",
       "      <th>loyalty_card</th>\n",
       "      <th>PhoneNumberValid</th>\n",
       "    </tr>\n",
       "  </thead>\n",
       "  <tbody>\n",
       "    <tr>\n",
       "      <th>0</th>\n",
       "      <td>17670-51384-MA</td>\n",
       "      <td>Aloisia Allner</td>\n",
       "      <td>aallner0@lulu.com</td>\n",
       "      <td>+1 (862) 817-0124</td>\n",
       "      <td>57999 Pepper Wood Alley</td>\n",
       "      <td>Paterson</td>\n",
       "      <td>US</td>\n",
       "      <td>7505</td>\n",
       "      <td>Yes</td>\n",
       "      <td>True</td>\n",
       "    </tr>\n",
       "    <tr>\n",
       "      <th>1</th>\n",
       "      <td>73342-18763-UW</td>\n",
       "      <td>Piotr Bote</td>\n",
       "      <td>pbote1@yelp.com</td>\n",
       "      <td>+353 (913) 396-4653</td>\n",
       "      <td>2112 Ridgeway Hill</td>\n",
       "      <td>Crumlin</td>\n",
       "      <td>IR</td>\n",
       "      <td>D6W</td>\n",
       "      <td>No</td>\n",
       "      <td>True</td>\n",
       "    </tr>\n",
       "    <tr>\n",
       "      <th>2</th>\n",
       "      <td>21125-22134-PX</td>\n",
       "      <td>Jami Redholes</td>\n",
       "      <td>jredholes2@tmall.com</td>\n",
       "      <td>+1 (210) 986-6806</td>\n",
       "      <td>5214 Bartillon Park</td>\n",
       "      <td>San Antonio</td>\n",
       "      <td>US</td>\n",
       "      <td>78205</td>\n",
       "      <td>Yes</td>\n",
       "      <td>True</td>\n",
       "    </tr>\n",
       "  </tbody>\n",
       "</table>\n",
       "</div>"
      ],
      "text/plain": [
       "      customer_id   customer_name                 email         phone_number  \\\n",
       "0  17670-51384-MA  Aloisia Allner     aallner0@lulu.com    +1 (862) 817-0124   \n",
       "1  73342-18763-UW      Piotr Bote       pbote1@yelp.com  +353 (913) 396-4653   \n",
       "2  21125-22134-PX   Jami Redholes  jredholes2@tmall.com    +1 (210) 986-6806   \n",
       "\n",
       "            address_line_1         city country postcode loyalty_card  \\\n",
       "0  57999 Pepper Wood Alley     Paterson      US     7505          Yes   \n",
       "1       2112 Ridgeway Hill      Crumlin      IR      D6W           No   \n",
       "2      5214 Bartillon Park  San Antonio      US    78205          Yes   \n",
       "\n",
       "   PhoneNumberValid  \n",
       "0              True  \n",
       "1              True  \n",
       "2              True  "
      ]
     },
     "execution_count": 21,
     "metadata": {},
     "output_type": "execute_result"
    }
   ],
   "source": [
    "customers.head(3)"
   ]
  },
  {
   "cell_type": "markdown",
   "metadata": {},
   "source": [
    "Creating Time Dimension"
   ]
  },
  {
   "cell_type": "code",
   "execution_count": 18,
   "metadata": {},
   "outputs": [
    {
     "name": "stdout",
     "output_type": "stream",
     "text": [
      "<class 'pandas.core.frame.DataFrame'>\n",
      "Index: 689 entries, 0 to 997\n",
      "Data columns (total 4 columns):\n",
      " #   Column      Non-Null Count  Dtype         \n",
      "---  ------      --------------  -----         \n",
      " 0   order_date  689 non-null    datetime64[ns]\n",
      " 1   day         689 non-null    object        \n",
      " 2   month_name  689 non-null    object        \n",
      " 3   year        689 non-null    int32         \n",
      "dtypes: datetime64[ns](1), int32(1), object(2)\n",
      "memory usage: 24.2+ KB\n"
     ]
    },
    {
     "data": {
      "text/html": [
       "<div>\n",
       "<style scoped>\n",
       "    .dataframe tbody tr th:only-of-type {\n",
       "        vertical-align: middle;\n",
       "    }\n",
       "\n",
       "    .dataframe tbody tr th {\n",
       "        vertical-align: top;\n",
       "    }\n",
       "\n",
       "    .dataframe thead th {\n",
       "        text-align: right;\n",
       "    }\n",
       "</style>\n",
       "<table border=\"1\" class=\"dataframe\">\n",
       "  <thead>\n",
       "    <tr style=\"text-align: right;\">\n",
       "      <th></th>\n",
       "      <th>order_date</th>\n",
       "      <th>day</th>\n",
       "      <th>month_name</th>\n",
       "      <th>year</th>\n",
       "    </tr>\n",
       "  </thead>\n",
       "  <tbody>\n",
       "    <tr>\n",
       "      <th>0</th>\n",
       "      <td>2022-06-03</td>\n",
       "      <td>Friday</td>\n",
       "      <td>June</td>\n",
       "      <td>2022</td>\n",
       "    </tr>\n",
       "    <tr>\n",
       "      <th>1</th>\n",
       "      <td>2020-10-30</td>\n",
       "      <td>Friday</td>\n",
       "      <td>October</td>\n",
       "      <td>2020</td>\n",
       "    </tr>\n",
       "    <tr>\n",
       "      <th>2</th>\n",
       "      <td>2019-01-19</td>\n",
       "      <td>Saturday</td>\n",
       "      <td>January</td>\n",
       "      <td>2019</td>\n",
       "    </tr>\n",
       "    <tr>\n",
       "      <th>3</th>\n",
       "      <td>2021-01-28</td>\n",
       "      <td>Thursday</td>\n",
       "      <td>January</td>\n",
       "      <td>2021</td>\n",
       "    </tr>\n",
       "    <tr>\n",
       "      <th>4</th>\n",
       "      <td>2021-07-24</td>\n",
       "      <td>Saturday</td>\n",
       "      <td>July</td>\n",
       "      <td>2021</td>\n",
       "    </tr>\n",
       "  </tbody>\n",
       "</table>\n",
       "</div>"
      ],
      "text/plain": [
       "  order_date       day month_name  year\n",
       "0 2022-06-03    Friday       June  2022\n",
       "1 2020-10-30    Friday    October  2020\n",
       "2 2019-01-19  Saturday    January  2019\n",
       "3 2021-01-28  Thursday    January  2021\n",
       "4 2021-07-24  Saturday       July  2021"
      ]
     },
     "execution_count": 18,
     "metadata": {},
     "output_type": "execute_result"
    }
   ],
   "source": [
    "time_dim = pd.DataFrame({\n",
    "    'order_date': orders['order_date'],\n",
    "    'day': orders['order_date'].dt.day_name(),                   # Extract the day\n",
    "    'month_name': orders['order_date'].dt.month_name(),   # Extract the month name\n",
    "    'year': orders['order_date'].dt.year                  # Extract the year\n",
    "})\n",
    "\n",
    "time_dim = time_dim.drop_duplicates(subset=['order_date'], keep='first')\n",
    "time_dim.info()\n",
    "time_dim.head()"
   ]
  },
  {
   "cell_type": "markdown",
   "metadata": {},
   "source": [
    "Joining the data"
   ]
  },
  {
   "cell_type": "code",
   "execution_count": 20,
   "metadata": {},
   "outputs": [
    {
     "name": "stdout",
     "output_type": "stream",
     "text": [
      "<class 'pandas.core.frame.DataFrame'>\n",
      "RangeIndex: 999 entries, 0 to 998\n",
      "Data columns (total 23 columns):\n",
      " #   Column            Non-Null Count  Dtype         \n",
      "---  ------            --------------  -----         \n",
      " 0   order_id          999 non-null    object        \n",
      " 1   order_date        999 non-null    datetime64[ns]\n",
      " 2   customer_id       999 non-null    object        \n",
      " 3   product_id        999 non-null    object        \n",
      " 4   quantity          999 non-null    int64         \n",
      " 5   customer_name     999 non-null    object        \n",
      " 6   email             999 non-null    object        \n",
      " 7   phone_number      999 non-null    object        \n",
      " 8   address_line_1    999 non-null    object        \n",
      " 9   city              999 non-null    object        \n",
      " 10  country           999 non-null    object        \n",
      " 11  postcode          999 non-null    object        \n",
      " 12  loyalty_card      999 non-null    object        \n",
      " 13  PhoneNumberValid  999 non-null    bool          \n",
      " 14  coffee_type       999 non-null    object        \n",
      " 15  roast_type        999 non-null    object        \n",
      " 16  size              999 non-null    float64       \n",
      " 17  unit_price        999 non-null    float64       \n",
      " 18  price_per_100g    999 non-null    float64       \n",
      " 19  profit            999 non-null    float64       \n",
      " 20  day               999 non-null    object        \n",
      " 21  month_name        999 non-null    object        \n",
      " 22  year              999 non-null    int32         \n",
      "dtypes: bool(1), datetime64[ns](1), float64(4), int32(1), int64(1), object(15)\n",
      "memory usage: 168.9+ KB\n"
     ]
    },
    {
     "data": {
      "text/html": [
       "<div>\n",
       "<style scoped>\n",
       "    .dataframe tbody tr th:only-of-type {\n",
       "        vertical-align: middle;\n",
       "    }\n",
       "\n",
       "    .dataframe tbody tr th {\n",
       "        vertical-align: top;\n",
       "    }\n",
       "\n",
       "    .dataframe thead th {\n",
       "        text-align: right;\n",
       "    }\n",
       "</style>\n",
       "<table border=\"1\" class=\"dataframe\">\n",
       "  <thead>\n",
       "    <tr style=\"text-align: right;\">\n",
       "      <th></th>\n",
       "      <th>order_id</th>\n",
       "      <th>order_date</th>\n",
       "      <th>customer_id</th>\n",
       "      <th>product_id</th>\n",
       "      <th>quantity</th>\n",
       "      <th>customer_name</th>\n",
       "      <th>email</th>\n",
       "      <th>phone_number</th>\n",
       "      <th>address_line_1</th>\n",
       "      <th>city</th>\n",
       "      <th>...</th>\n",
       "      <th>PhoneNumberValid</th>\n",
       "      <th>coffee_type</th>\n",
       "      <th>roast_type</th>\n",
       "      <th>size</th>\n",
       "      <th>unit_price</th>\n",
       "      <th>price_per_100g</th>\n",
       "      <th>profit</th>\n",
       "      <th>day</th>\n",
       "      <th>month_name</th>\n",
       "      <th>year</th>\n",
       "    </tr>\n",
       "  </thead>\n",
       "  <tbody>\n",
       "    <tr>\n",
       "      <th>0</th>\n",
       "      <td>AAQ-13644-699</td>\n",
       "      <td>2022-06-03</td>\n",
       "      <td>46296-42617-OQ</td>\n",
       "      <td>R-D-1</td>\n",
       "      <td>4</td>\n",
       "      <td>Fernando Sulman</td>\n",
       "      <td>fsulmanl0@washington.edu</td>\n",
       "      <td>+1 (828) 464-2678</td>\n",
       "      <td>45 Village Terrace</td>\n",
       "      <td>Asheville</td>\n",
       "      <td>...</td>\n",
       "      <td>True</td>\n",
       "      <td>Rob</td>\n",
       "      <td>D</td>\n",
       "      <td>1.0</td>\n",
       "      <td>8.95</td>\n",
       "      <td>0.895</td>\n",
       "      <td>0.5370</td>\n",
       "      <td>Friday</td>\n",
       "      <td>June</td>\n",
       "      <td>2022</td>\n",
       "    </tr>\n",
       "    <tr>\n",
       "      <th>1</th>\n",
       "      <td>ABK-08091-531</td>\n",
       "      <td>2020-10-30</td>\n",
       "      <td>53864-36201-FG</td>\n",
       "      <td>L-L-1</td>\n",
       "      <td>3</td>\n",
       "      <td>Tess Benediktovich</td>\n",
       "      <td>tbenediktovichmv@ebay.com</td>\n",
       "      <td>+1 (505) 523-8113</td>\n",
       "      <td>1068 Sutherland Plaza</td>\n",
       "      <td>Albuquerque</td>\n",
       "      <td>...</td>\n",
       "      <td>True</td>\n",
       "      <td>Lib</td>\n",
       "      <td>L</td>\n",
       "      <td>1.0</td>\n",
       "      <td>15.85</td>\n",
       "      <td>1.585</td>\n",
       "      <td>2.0605</td>\n",
       "      <td>Friday</td>\n",
       "      <td>October</td>\n",
       "      <td>2020</td>\n",
       "    </tr>\n",
       "    <tr>\n",
       "      <th>2</th>\n",
       "      <td>ABO-29054-365</td>\n",
       "      <td>2019-01-19</td>\n",
       "      <td>00256-19905-YG</td>\n",
       "      <td>A-M-0.5</td>\n",
       "      <td>6</td>\n",
       "      <td>Stanislaus Valsler</td>\n",
       "      <td>No email</td>\n",
       "      <td>+353 (479) 865-9222</td>\n",
       "      <td>95 Southridge Alley</td>\n",
       "      <td>Castlebridge</td>\n",
       "      <td>...</td>\n",
       "      <td>True</td>\n",
       "      <td>Ara</td>\n",
       "      <td>M</td>\n",
       "      <td>0.5</td>\n",
       "      <td>6.75</td>\n",
       "      <td>1.350</td>\n",
       "      <td>0.6075</td>\n",
       "      <td>Saturday</td>\n",
       "      <td>January</td>\n",
       "      <td>2019</td>\n",
       "    </tr>\n",
       "  </tbody>\n",
       "</table>\n",
       "<p>3 rows × 23 columns</p>\n",
       "</div>"
      ],
      "text/plain": [
       "        order_id order_date     customer_id product_id  quantity  \\\n",
       "0  AAQ-13644-699 2022-06-03  46296-42617-OQ      R-D-1         4   \n",
       "1  ABK-08091-531 2020-10-30  53864-36201-FG      L-L-1         3   \n",
       "2  ABO-29054-365 2019-01-19  00256-19905-YG    A-M-0.5         6   \n",
       "\n",
       "        customer_name                      email         phone_number  \\\n",
       "0     Fernando Sulman   fsulmanl0@washington.edu    +1 (828) 464-2678   \n",
       "1  Tess Benediktovich  tbenediktovichmv@ebay.com    +1 (505) 523-8113   \n",
       "2  Stanislaus Valsler                   No email  +353 (479) 865-9222   \n",
       "\n",
       "          address_line_1          city  ... PhoneNumberValid coffee_type  \\\n",
       "0     45 Village Terrace     Asheville  ...             True         Rob   \n",
       "1  1068 Sutherland Plaza   Albuquerque  ...             True         Lib   \n",
       "2    95 Southridge Alley  Castlebridge  ...             True         Ara   \n",
       "\n",
       "  roast_type  size unit_price price_per_100g  profit       day  month_name  \\\n",
       "0          D   1.0       8.95          0.895  0.5370    Friday        June   \n",
       "1          L   1.0      15.85          1.585  2.0605    Friday     October   \n",
       "2          M   0.5       6.75          1.350  0.6075  Saturday     January   \n",
       "\n",
       "   year  \n",
       "0  2022  \n",
       "1  2020  \n",
       "2  2019  \n",
       "\n",
       "[3 rows x 23 columns]"
      ]
     },
     "execution_count": 20,
     "metadata": {},
     "output_type": "execute_result"
    }
   ],
   "source": [
    "full_df=orders.merge(customers,on='customer_id',how='inner') \\\n",
    "              .merge(product,on='product_id',how=\"inner\") \\\n",
    "              .merge(time_dim,on='order_date',how=\"inner\")\n",
    "\n",
    "full_df.info()\n",
    "full_df.head(3)"
   ]
  },
  {
   "cell_type": "markdown",
   "metadata": {},
   "source": [
    "Saving the transfomed datasets"
   ]
  },
  {
   "cell_type": "markdown",
   "metadata": {},
   "source": [
    "to csv"
   ]
  },
  {
   "cell_type": "code",
   "execution_count": null,
   "metadata": {},
   "outputs": [],
   "source": [
    "orders.to_csv(\"../data/cleaned/order_cleaned.csv\",index=False)\n",
    "customers.to_csv(\"../data/cleaned/customers_cleaned.csv\",index=False)\n",
    "product.to_csv(\"../data/cleaned/product_cleaned.csv\",index=False)\n",
    "time_dim.to_csv(\"../data/cleaned/time_dim.csv\",index=False)\n",
    "full_df.to_csv(\"../data/joined/joined_data.csv\",index=False)"
   ]
  },
  {
   "cell_type": "markdown",
   "metadata": {},
   "source": [
    "to excel"
   ]
  },
  {
   "cell_type": "code",
   "execution_count": null,
   "metadata": {},
   "outputs": [],
   "source": [
    "with pd.ExcelWriter('../data/joined/joined_data.xlsx') as writer:\n",
    "    orders.to_excel(writer, sheet_name='Orders', index=False)\n",
    "    customers.to_excel(writer, sheet_name='Customers', index=False)\n",
    "    product.to_excel(writer, sheet_name='Products', index=False)\n",
    "    time_dim.to_excel(writer,sheet_name='Time', index=False)"
   ]
  }
 ],
 "metadata": {
  "kernelspec": {
   "display_name": "Python 3",
   "language": "python",
   "name": "python3"
  },
  "language_info": {
   "codemirror_mode": {
    "name": "ipython",
    "version": 3
   },
   "file_extension": ".py",
   "mimetype": "text/x-python",
   "name": "python",
   "nbconvert_exporter": "python",
   "pygments_lexer": "ipython3",
   "version": "3.13.1"
  }
 },
 "nbformat": 4,
 "nbformat_minor": 2
}
